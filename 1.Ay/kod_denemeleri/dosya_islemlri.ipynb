{
 "cells": [
  {
   "attachments": {},
   "cell_type": "markdown",
   "metadata": {},
   "source": [
    "şuanki konumda bize bir dosya oluşturur"
   ]
  },
  {
   "cell_type": "code",
   "execution_count": 7,
   "metadata": {},
   "outputs": [],
   "source": [
    "file=open('bilgiler.txt','w')\n",
    "file.close()\n"
   ]
  },
  {
   "attachments": {},
   "cell_type": "markdown",
   "metadata": {},
   "source": [
    "istersek bilgisayarda herjangi bir yol vererek de oluşturabilirsin"
   ]
  },
  {
   "cell_type": "code",
   "execution_count": 9,
   "metadata": {},
   "outputs": [],
   "source": [
    "file=open('/Users/ibrahimtoytekin/Desktop/bilgiler.txt','w')"
   ]
  },
  {
   "attachments": {},
   "cell_type": "markdown",
   "metadata": {},
   "source": [
    "türkçe karakterler için encoding ='utf-8' yazmamız gerekiyor."
   ]
  },
  {
   "cell_type": "code",
   "execution_count": 21,
   "metadata": {},
   "outputs": [],
   "source": [
    "file=open('bilgiler.txt','w', encoding='utf-8')\n",
    "\n",
    "file.write(' İbrahim Toytekin çÇ şŞ')\n",
    "file.close()\n",
    "\n",
    "\n"
   ]
  },
  {
   "attachments": {},
   "cell_type": "markdown",
   "metadata": {},
   "source": [
    "'a' kipi ile dosyaya tekrar tekrar yazabiliyoruz\n",
    "eğer dosya yoksa dosyayı oluşturur.\n",
    "dosya varsa dosyayı açar, ve içindeki verilerin üzerine yazmamızı sağlar"
   ]
  },
  {
   "cell_type": "code",
   "execution_count": 33,
   "metadata": {},
   "outputs": [],
   "source": [
    "file=open('bilgiler.txt','a', encoding='utf-8')\n",
    "file.write('Deneme yazısının buraya yazalım \\n')\n",
    "file.close()"
   ]
  },
  {
   "cell_type": "code",
   "execution_count": 36,
   "metadata": {},
   "outputs": [],
   "source": [
    "file=open('bilgiler.txt','a', encoding='utf-8')\n",
    "file.write('2. yazımızda burada yer alacak \\n')\n",
    "file.close()"
   ]
  },
  {
   "attachments": {},
   "cell_type": "markdown",
   "metadata": {},
   "source": [
    "### Dosya okuma işlmeleri"
   ]
  },
  {
   "cell_type": "code",
   "execution_count": 38,
   "metadata": {},
   "outputs": [
    {
     "name": "stdout",
     "output_type": "stream",
     "text": [
      "Deneme yazısının buraya yazalım \n",
      "2. yazımızda burada yer alacak \n",
      "2. yazımızda burada yer alacak \n",
      "1\n",
      "2\n",
      "3\n",
      "4\n",
      "5\n",
      "6\n",
      "7\n"
     ]
    }
   ],
   "source": [
    "\n",
    "try:\n",
    "  file=open('bilgiler.txt','r')\n",
    "  for i in file:\n",
    "    print(i,end='')\n",
    "   \n",
    "  file.close() \n",
    "except:print('Dosya Bulunamadı...')\n",
    "    "
   ]
  },
  {
   "cell_type": "code",
   "execution_count": 39,
   "metadata": {},
   "outputs": [
    {
     "name": "stdout",
     "output_type": "stream",
     "text": [
      "['Deneme yazısının buraya yazalım \\n', '2. yazımızda burada yer alacak \\n', '2. yazımızda burada yer alacak \\n', '1\\n', '2\\n', '3\\n', '4\\n', '5\\n', '6\\n', '7\\n']\n"
     ]
    }
   ],
   "source": [
    "file=open('bilgiler.txt','r', encoding='utf-8')\n",
    "listeyeAt=file.readlines()\n",
    "print(listeyeAt)\n",
    "file.close()"
   ]
  },
  {
   "attachments": {},
   "cell_type": "markdown",
   "metadata": {},
   "source": [
    "## Dosyalarda kullanılan fonksiyonlar"
   ]
  },
  {
   "attachments": {},
   "cell_type": "markdown",
   "metadata": {},
   "source": [
    "#== Dosyaları otomatik kapatma"
   ]
  },
  {
   "cell_type": "code",
   "execution_count": 49,
   "metadata": {},
   "outputs": [
    {
     "name": "stdout",
     "output_type": "stream",
     "text": [
      "buraya yazalım \n",
      "2. yazımızda burada\n"
     ]
    }
   ],
   "source": [
    "with open('bilgiler.txt','r') as file:\n",
    "    file.seek(20)\n",
    "    icerik=file.read(35)\n",
    "    print(icerik)"
   ]
  },
  {
   "cell_type": "code",
   "execution_count": 52,
   "metadata": {},
   "outputs": [
    {
     "name": "stdout",
     "output_type": "stream",
     "text": [
      "buraya yazalım \n",
      "2. yazımızda burada yer alacak \n",
      "2. yazımızda burada yer alacak \n",
      "1\n",
      "2\n",
      "3\n",
      "4\n",
      "5\n",
      "6\n",
      "7\n",
      "\n",
      "\n"
     ]
    }
   ],
   "source": [
    "with open('bilgiler.txt','r') as file:\n",
    " \n",
    "    file.seek(20)\n",
    "    print(file.read())\n",
    "    icerik=file.read(35)\n",
    "    print(icerik) "
   ]
  },
  {
   "attachments": {},
   "cell_type": "markdown",
   "metadata": {},
   "source": [
    "dosya basona ekleme yapma"
   ]
  },
  {
   "attachments": {},
   "cell_type": "markdown",
   "metadata": {},
   "source": []
  },
  {
   "cell_type": "code",
   "execution_count": 60,
   "metadata": {},
   "outputs": [],
   "source": [
    "with open('bilgiler.txt','r+') as file:\n",
    "    icerik=file.read()\n",
    "    icerik='dosyanın başına ekleme yapma\\n'+ icerik\n",
    "    file.seek(0)\n",
    "    file.write(icerik)\n",
    "\n",
    "    \n",
    "\n",
    " "
   ]
  },
  {
   "cell_type": "code",
   "execution_count": 2,
   "metadata": {},
   "outputs": [
    {
     "name": "stdout",
     "output_type": "stream",
     "text": [
      "\n",
      "dosyanın başına ekleme yapma\n",
      "Deneme yazısının buraya yazalım \n",
      "2. yazımızda burada yer alacak \n",
      "2. yazımızda burada yer alacak \n",
      "1\n",
      "2\n",
      "3\n",
      "4\n",
      "5\n",
      "6\n",
      "7fefefwfwefw\n",
      "\n"
     ]
    }
   ],
   "source": [
    "with open('bilgiler.txt','r') as file:\n",
    "    islemBasarilimi=file.read()\n",
    "    print(islemBasarilimi)   "
   ]
  },
  {
   "cell_type": "code",
   "execution_count": 4,
   "metadata": {},
   "outputs": [
    {
     "name": "stdout",
     "output_type": "stream",
     "text": [
      "Mehmet Yetiş\n",
      "dosyanın başına ekleme yapma\n",
      "Deneme yazısının buraya yazalım \n",
      "2. yazımızda burada yer alacak \n",
      "2. yazımızda burada yer alacak \n",
      "1\n",
      "2\n",
      "3\n",
      "4\n",
      "5\n",
      "6\n",
      "7fefefwfwefw\n",
      "\n"
     ]
    }
   ],
   "source": [
    "with open('bilgiler.txt','r+', encoding='utf-8') as file:\n",
    "    listem=file.read()\n",
    "    listem='Mehmet Yetiş'+listem\n",
    "    file.seek(0)\n",
    "    file.write(listem)\n",
    "    print(listem)\n"
   ]
  },
  {
   "cell_type": "code",
   "execution_count": 10,
   "metadata": {},
   "outputs": [],
   "source": [
    "with open('bilgiler.txt','r+', encoding='utf-8') as file:\n",
    "    listem=file.readlines()\n",
    "    listem.insert(3,'kemal \\n')\n",
    "    file.seek(0)\n",
    "    file.writelines(listem)\n",
    "    \n",
    "   "
   ]
  },
  {
   "cell_type": "code",
   "execution_count": null,
   "metadata": {},
   "outputs": [],
   "source": [
    "with open('bilgiler.txt','r+', encoding='utf-8') as file:\n",
    "    listem=file.read()\n",
    "    print(listem)\n"
   ]
  }
 ],
 "metadata": {
  "kernelspec": {
   "display_name": "Python 3",
   "language": "python",
   "name": "python3"
  },
  "language_info": {
   "codemirror_mode": {
    "name": "ipython",
    "version": 3
   },
   "file_extension": ".py",
   "mimetype": "text/x-python",
   "name": "python",
   "nbconvert_exporter": "python",
   "pygments_lexer": "ipython3",
   "version": "3.11.3"
  },
  "orig_nbformat": 4
 },
 "nbformat": 4,
 "nbformat_minor": 2
}
